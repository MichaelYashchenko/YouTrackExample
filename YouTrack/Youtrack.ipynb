{
 "metadata": {
  "language_info": {
   "codemirror_mode": {
    "name": "ipython",
    "version": 3
   },
   "file_extension": ".py",
   "mimetype": "text/x-python",
   "name": "python",
   "nbconvert_exporter": "python",
   "pygments_lexer": "ipython3",
   "version": "3.9.1"
  },
  "orig_nbformat": 2,
  "kernelspec": {
   "name": "python391jvsc74a57bd04cd7ab41f5fca4b9b44701077e38c5ffd31fe66a6cab21e0214b68d958d0e462",
   "display_name": "Python 3.9.1 64-bit"
  },
  "metadata": {
   "interpreter": {
    "hash": "4cd7ab41f5fca4b9b44701077e38c5ffd31fe66a6cab21e0214b68d958d0e462"
   }
  }
 },
 "nbformat": 4,
 "nbformat_minor": 2,
 "cells": [
  {
   "cell_type": "code",
   "execution_count": 47,
   "metadata": {},
   "outputs": [],
   "source": [
    "import requests\n",
    "import json"
   ]
  },
  {
   "source": [
    "[Докуменация](https://www.jetbrains.com/help/youtrack/devportal/api-howto-create-issue.html#step-by-step)"
   ],
   "cell_type": "markdown",
   "metadata": {}
  },
  {
   "cell_type": "code",
   "execution_count": 57,
   "metadata": {},
   "outputs": [
    {
     "output_type": "stream",
     "name": "stdout",
     "text": [
      "200\n"
     ]
    },
    {
     "output_type": "execute_result",
     "data": {
      "text/plain": [
       "'[{\"shortName\":\"KNBN\",\"name\":\"Another Kanban project from REST\",\"id\":\"0-14\",\"$type\":\"Project\"},{\"shortName\":\"SCR\",\"name\":\"AnotherScrum project from REST\",\"id\":\"0-10\",\"$type\":\"Project\"},{\"shortName\":\"DEMO\",\"name\":\"Demo Project\",\"id\":\"0-19\",\"$type\":\"Project\"},{\"shortName\":\"DEMOS\",\"name\":\"Demo Project (2nd V)\",\"id\":\"0-20\",\"$type\":\"Project\"},{\"shortName\":\"DPK\",\"name\":\"Demo Project Kanban\",\"id\":\"0-18\",\"$type\":\"Project\"},{\"shortName\":\"GRP\",\"name\":\"GRA Project\",\"id\":\"0-7\",\"$type\":\"Project\"},{\"shortName\":\"KBN\",\"name\":\"Kanban project from REST\",\"id\":\"0-13\",\"$type\":\"Project\"},{\"shortName\":\"NP\",\"name\":\"New Project\",\"id\":\"0-16\",\"$type\":\"Project\"},{\"shortName\":\"NSCP\",\"name\":\"New Scrum Project\",\"id\":\"0-17\",\"$type\":\"Project\"},{\"shortName\":\"RAP\",\"name\":\"Rest Api Project\",\"id\":\"0-2\",\"$type\":\"Project\"},{\"shortName\":\"RP\",\"name\":\"Rest Project\",\"id\":\"0-6\",\"$type\":\"Project\"},{\"shortName\":\"SP\",\"name\":\"Sample Project\",\"id\":\"0-0\",\"$type\":\"Project\"},{\"shortName\":\"SNBX\",\"name\":\"Sandbox\",\"id\":\"0-3\",\"$type\":\"Project\"},{\"shortName\":\"FRSCR\",\"name\":\"Scrum project from REST\",\"id\":\"0-8\",\"$type\":\"Project\"}]'"
      ]
     },
     "metadata": {},
     "execution_count": 57
    }
   ],
   "source": [
    "url = 'https://example.myjetbrains.com/youtrack'\n",
    "tok = 'perm:amFuZS5kb2U=.UkVTVCBBUEk=.wcKuAok8cHmAtzjA6xlc4BrB4hleaX'\n",
    "\n",
    "class YouTrackApi:\n",
    "    def __init__(self, token, URL=url):\n",
    "        self.token = token\n",
    "        self.URL = URL\n",
    "        self.headers = {'Accept': 'application/json', 'Authorization': f'Bearer {self.token}', 'Content-Type': 'application/json'}\n",
    "\n",
    "    def get_info(self):\n",
    "        ret = requests.get(self.URL + '/api/admin/projects?fields=id,name,shortName', headers=self.headers)\n",
    "        return ret\n",
    "\n",
    "    def get_project_teams(self):\n",
    "        ret = requests.get(self.URL + '/api/admin/projects?fields=id, name', headers=self.headers)\n",
    "        res = json.loads(ret.text)\n",
    "        res = list(map(lambda x: x['id'], res))\n",
    "        return res\n",
    "    '''\n",
    "        идея в том, чтобы дальше когда мы собрали id (или name) каждого проекта, \n",
    "        запросить всех его участников и составить список клиентов\n",
    "\n",
    "        к сожалению в тестовой выборке не представлены списки участников, но думаю идея              понятна\n",
    "\n",
    "        например так: /api/admin/projects?fields=users,id&query=current_id\n",
    "    '''\n",
    "\n",
    "YouTrack = YouTrackApi(tok)\n",
    "result_info = YouTrack.get_info()\n",
    "print(result_info.status_code)\n",
    "result_info.text"
   ]
  },
  {
   "cell_type": "code",
   "execution_count": 58,
   "metadata": {},
   "outputs": [
    {
     "output_type": "stream",
     "name": "stdout",
     "text": [
      "['0-14', '0-10', '0-19', '0-20', '0-18', '0-7', '0-13', '0-16', '0-17', '0-2', '0-6', '0-0', '0-3', '0-8']\n"
     ]
    }
   ],
   "source": [
    "result_teams = YouTrack.get_project_teams()\n",
    "print(result_teams)"
   ]
  },
  {
   "cell_type": "code",
   "execution_count": 32,
   "metadata": {},
   "outputs": [
    {
     "output_type": "execute_result",
     "data": {
      "text/plain": [
       "'[{\"shortName\":\"SP\",\"name\":\"Sample Project\",\"id\":\"0-0\",\"$type\":\"Project\"}]'"
      ]
     },
     "metadata": {},
     "execution_count": 32
    }
   ],
   "source": [
    "fer = requests.get('https://example.myjetbrains.com/youtrack/api/admin/projects?fields=id,name,shortName&query=sp', headers = {'Accept': 'application/json', 'Authorization': 'Bearer perm:amFuZS5kb2U=.UkVTVCBBUEk=.wcKuAok8cHmAtzjA6xlc4BrB4hleaX', 'Content-Type': 'application/json'})\n",
    "fer.status_code\n",
    "fer.text"
   ]
  },
  {
   "cell_type": "code",
   "execution_count": 33,
   "metadata": {},
   "outputs": [
    {
     "output_type": "execute_result",
     "data": {
      "text/plain": [
       "'[{\"shortName\":\"KNBN\",\"name\":\"Another Kanban project from REST\",\"id\":\"0-14\",\"$type\":\"Project\"},{\"shortName\":\"SCR\",\"name\":\"AnotherScrum project from REST\",\"id\":\"0-10\",\"$type\":\"Project\"},{\"shortName\":\"DEMO\",\"name\":\"Demo Project\",\"id\":\"0-19\",\"$type\":\"Project\"},{\"shortName\":\"DEMOS\",\"name\":\"Demo Project (2nd V)\",\"id\":\"0-20\",\"$type\":\"Project\"},{\"shortName\":\"DPK\",\"name\":\"Demo Project Kanban\",\"id\":\"0-18\",\"$type\":\"Project\"},{\"shortName\":\"GRP\",\"name\":\"GRA Project\",\"id\":\"0-7\",\"$type\":\"Project\"},{\"shortName\":\"KBN\",\"name\":\"Kanban project from REST\",\"id\":\"0-13\",\"$type\":\"Project\"},{\"shortName\":\"NP\",\"name\":\"New Project\",\"id\":\"0-16\",\"$type\":\"Project\"},{\"shortName\":\"NSCP\",\"name\":\"New Scrum Project\",\"id\":\"0-17\",\"$type\":\"Project\"},{\"shortName\":\"RAP\",\"name\":\"Rest Api Project\",\"id\":\"0-2\",\"$type\":\"Project\"},{\"shortName\":\"RP\",\"name\":\"Rest Project\",\"id\":\"0-6\",\"$type\":\"Project\"},{\"shortName\":\"SP\",\"name\":\"Sample Project\",\"id\":\"0-0\",\"$type\":\"Project\"},{\"shortName\":\"SNBX\",\"name\":\"Sandbox\",\"id\":\"0-3\",\"$type\":\"Project\"},{\"shortName\":\"FRSCR\",\"name\":\"Scrum project from REST\",\"id\":\"0-8\",\"$type\":\"Project\"}]'"
      ]
     },
     "metadata": {},
     "execution_count": 33
    }
   ],
   "source": [
    "other_check = requests.get('https://example.myjetbrains.com/youtrack/api/admin/projects?fields=id,name,shortName', headers = {'Accept': 'application/json', 'Authorization': 'Bearer perm:amFuZS5kb2U=.UkVTVCBBUEk=.wcKuAok8cHmAtzjA6xlc4BrB4hleaX', 'Content-Type': 'application/json'})\n",
    "other_check.status_code\n",
    "other_check.text"
   ]
  },
  {
   "cell_type": "code",
   "execution_count": null,
   "metadata": {},
   "outputs": [],
   "source": []
  }
 ]
}